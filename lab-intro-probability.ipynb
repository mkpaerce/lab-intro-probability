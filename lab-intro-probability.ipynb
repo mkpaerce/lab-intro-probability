{
 "cells": [
  {
   "cell_type": "markdown",
   "metadata": {},
   "source": [
    "# Lab | Intro to Probability"
   ]
  },
  {
   "cell_type": "markdown",
   "metadata": {},
   "source": [
    "**Objective**\n",
    "\n",
    "Welcome to this Intro to Probability lab, where we explore decision-making scenarios through the lens of probability and strategic analysis. In the business world, making informed decisions is crucial, especially when faced with uncertainties. This lab focuses on scenarios where probabilistic outcomes play a significant role in shaping strategies and outcomes. Students will engage in exercises that require assessing and choosing optimal paths based on data-driven insights. The goal is to enhance your skills by applying probability concepts to solve real-world problems."
   ]
  },
  {
   "cell_type": "markdown",
   "metadata": {},
   "source": [
    "**Challenge 1**"
   ]
  },
  {
   "cell_type": "markdown",
   "metadata": {},
   "source": [
    "#### Ironhack Airlines \n",
    "\n",
    "Often Airlines sell more tickets than they have seats available, this is called overbooking. Consider the following:\n",
    "- A plane has 450 seats. \n",
    "- Based on historical data we conclude that each individual passenger has a 3% chance of missing it's flight. \n",
    "\n",
    "If the Ironhack Airlines routinely sells 460 tickets, what is the chance that they have a seats for all passenger?"
   ]
  },
  {
   "cell_type": "code",
   "execution_count": 33,
   "metadata": {},
   "outputs": [
    {
     "name": "stdout",
     "output_type": "stream",
     "text": [
      "The history saving thread hit an unexpected error (OperationalError('attempt to write a readonly database')).History will not be written to the database.\n"
     ]
    }
   ],
   "source": [
    "import pandas as pd\n",
    "import numpy as np\n",
    "import matplotlib.pyplot as plt\n",
    "import scipy.stats as st"
   ]
  },
  {
   "cell_type": "code",
   "execution_count": 35,
   "metadata": {},
   "outputs": [
    {
     "data": {
      "image/png": "[encoded data removed]",
      "text/plain": [
       "<Figure size 640x480 with 1 Axes>"
      ]
     },
     "metadata": {},
     "output_type": "display_data"
    },
    {
     "name": "stdout",
     "output_type": "stream",
     "text": [
      "The mean passengers showing up is 446.1791\n"
     ]
    }
   ],
   "source": [
    "#H0: Number of Seats >= Number of Passengers - Enough Seats\n",
    "#H1: Number of Seats < Number of Passengers - Not Enough Seats\n",
    "\n",
    "number_seats = 450\n",
    "number_of_tickets = 460\n",
    "prob_show = (1-0.03)\n",
    "number_simulations = 10000\n",
    "\n",
    "number_of_passengers_showing_up = np.random.binomial(number_of_tickets, prob_show, number_simulations)\n",
    "\n",
    "plt.hist(number_of_passengers_showing_up)\n",
    "plt.show()\n",
    "print(f\"The mean passengers showing up is {np.mean(number_of_passengers_showing_up)}\")"
   ]
  },
  {
   "cell_type": "code",
   "execution_count": 37,
   "metadata": {},
   "outputs": [
    {
     "name": "stdout",
     "output_type": "stream",
     "text": [
      "Estimated probability of having enough seats: 0.8848\n"
     ]
    }
   ],
   "source": [
    "probability_enough_seats = np.mean(number_of_passengers_showing_up <= number_seats)\n",
    "print(f\"Estimated probability of having enough seats: {probability_enough_seats:.4f}\")"
   ]
  },
  {
   "cell_type": "markdown",
   "metadata": {},
   "source": [
    "**Challenge 2**"
   ]
  },
  {
   "cell_type": "markdown",
   "metadata": {},
   "source": [
    "#### Ironhack Call Center "
   ]
  },
  {
   "cell_type": "markdown",
   "metadata": {},
   "source": [
    "Suppose a customer service representative at a call center is handling customer complaints. Consider the following:\n",
    "- The probability of successfully resolving a customer complaint on the first attempt is 0.3. \n",
    "\n",
    "\n",
    "What is the probability that the representative needs to make at least three attempts before successfully resolving a customer complaint?"
   ]
  },
  {
   "cell_type": "code",
   "execution_count": 39,
   "metadata": {},
   "outputs": [
    {
     "data": {
      "image/png": "[encoded data removed]",
      "text/plain": [
       "<Figure size 640x480 with 1 Axes>"
      ]
     },
     "metadata": {},
     "output_type": "display_data"
    },
    {
     "name": "stdout",
     "output_type": "stream",
     "text": [
      "The average number of attempts 3.3287\n"
     ]
    }
   ],
   "source": [
    "#H0: Success >= 3\n",
    "#H1: Success < 3\n",
    "\n",
    "prob_solved = 0.3\n",
    "number_simulations = 10000\n",
    "\n",
    "attempts = np.random.geometric(prob_solved, number_simulations)\n",
    "plt.hist(attempts)\n",
    "plt.show()\n",
    "print(f\"The average number of attempts {np.mean(attempts)}\")"
   ]
  },
  {
   "cell_type": "code",
   "execution_count": 41,
   "metadata": {},
   "outputs": [
    {
     "name": "stdout",
     "output_type": "stream",
     "text": [
      "Estimated probability of at least 3 attempts: 0.4933\n"
     ]
    }
   ],
   "source": [
    "prob_three_or_more = np.mean(attempts >= 3)\n",
    "\n",
    "print(f\"Estimated probability of at least 3 attempts: {prob_three_or_more:.4f}\")"
   ]
  },
  {
   "cell_type": "markdown",
   "metadata": {},
   "source": [
    "**Challenge 3**"
   ]
  },
  {
   "cell_type": "markdown",
   "metadata": {},
   "source": [
    "#### Ironhack Website"
   ]
  },
  {
   "cell_type": "markdown",
   "metadata": {},
   "source": [
    "Consider a scenario related to Ironhack website traffic. Where:\n",
    "- our website takes on average 500 visits per hour.\n",
    "- the website's server is designed to handle up to 550 vists per hour.\n",
    "\n",
    "\n",
    "What is the probability of the website server being overwhelmed?"
   ]
  },
  {
   "cell_type": "code",
   "execution_count": 43,
   "metadata": {},
   "outputs": [
    {
     "name": "stdout",
     "output_type": "stream",
     "text": [
      "Estimated probability of server overload: 0.0128\n"
     ]
    }
   ],
   "source": [
    "#H0: visits <= server_demand\n",
    "#H1: visits > server_demand\n",
    "\n",
    "mean_visits = 500\n",
    "server_limit = 550\n",
    "num_simulations = 100000  \n",
    "\n",
    "visits = np.random.poisson(mean_visits, num_simulations)\n",
    "\n",
    "prob_overwhelmed = np.mean(visits > server_limit)\n",
    "\n",
    "print(f\"Estimated probability of server overload: {prob_overwhelmed:.4f}\")\n",
    "\n"
   ]
  },
  {
   "cell_type": "markdown",
   "metadata": {},
   "source": [
    "What is the probability of being overwhelmed at some point during a day? (consider 24hours)"
   ]
  },
  {
   "cell_type": "code",
   "execution_count": 49,
   "metadata": {},
   "outputs": [
    {
     "name": "stdout",
     "output_type": "stream",
     "text": [
      "Estimated probability of server overload during a day: 0.2677\n"
     ]
    }
   ],
   "source": [
    "from scipy.stats import poisson\n",
    "\n",
    "probability_overwhelmed_hour = poisson.cdf(server_limit, mean_visits)\n",
    "\n",
    "probability_overwhelmed_day = probability_overwhelmed_hour ** 24\n",
    "\n",
    "probability_overwhelmed_day_exact = 1-probability_overwhelmed_day\n",
    "\n",
    "print(f\"Estimated probability of server overload during a day: {probability_overwhelmed_day_exact:.4f}\")"
   ]
  },
  {
   "cell_type": "markdown",
   "metadata": {},
   "source": [
    "**Challenge 4**"
   ]
  },
  {
   "cell_type": "markdown",
   "metadata": {},
   "source": [
    "#### Ironhack Helpdesk"
   ]
  },
  {
   "cell_type": "markdown",
   "metadata": {},
   "source": [
    "Consider a scenario related to the time between arrivals of customers at a service desk.\n",
    "\n",
    "On average, a customers arrives every 10minutes.\n",
    "\n",
    "What is the probability that the next customer will arrive within the next 5 minutes?"
   ]
  },
  {
   "cell_type": "code",
   "execution_count": 51,
   "metadata": {},
   "outputs": [
    {
     "name": "stdout",
     "output_type": "stream",
     "text": [
      "Probability that the next customer arrives within 5 minutes: 0.3935\n"
     ]
    }
   ],
   "source": [
    "from scipy.stats import expon\n",
    "\n",
    "mean_interarrival_time = 10  \n",
    "time_limit = 5\n",
    "\n",
    "prob_within_5_min = expon.cdf(time_limit, scale=mean_interarrival_time)\n",
    "\n",
    "print(f\"Probability that the next customer arrives within 5 minutes: {prob_within_5_min:.4f}\")"
   ]
  },
  {
   "cell_type": "markdown",
   "metadata": {},
   "source": [
    "If there is no customer for 15minutes, employees can that a 5minutes break.\n",
    "\n",
    "What is the probability an employee taking a break?"
   ]
  },
  {
   "cell_type": "code",
   "execution_count": 55,
   "metadata": {},
   "outputs": [
    {
     "name": "stdout",
     "output_type": "stream",
     "text": [
      "Probability that an employee can take a break: 0.2231\n"
     ]
    }
   ],
   "source": [
    "\n",
    "\n",
    "mean_interarrival_time = 10  \n",
    "break_time = 15  \n",
    "\n",
    "prob_no_customer_15min = 1 - expon.cdf(break_time, scale=mean_interarrival_time)\n",
    "\n",
    "print(f\"Probability that an employee can take a break: {prob_no_customer_15min:.4f}\")"
   ]
  },
  {
   "cell_type": "markdown",
   "metadata": {},
   "source": [
    "**Challenge 5**"
   ]
  },
  {
   "cell_type": "markdown",
   "metadata": {},
   "source": [
    "The weights of a certain species of birds follow a normal distribution with a mean weight of 150 grams and a standard deviation of 10 grams. \n",
    "\n",
    "- If we randomly select a bird, what is the probability that its weight is between 140 and 160 grams?"
   ]
  },
  {
   "cell_type": "code",
   "execution_count": 59,
   "metadata": {},
   "outputs": [
    {
     "name": "stdout",
     "output_type": "stream",
     "text": [
      "Probability that a bird weighs between 140g and 160g: 0.6827\n"
     ]
    }
   ],
   "source": [
    "from scipy.stats import norm\n",
    "\n",
    "mean = 150\n",
    "std_weight = 10\n",
    "max_weight = 160\n",
    "min_weight = 140\n",
    "\n",
    "prob_within_range = norm.cdf(max_weight, mean, std_weight) - norm.cdf(min_weight, mean, std_weight)\n",
    "\n",
    "print(f\"Probability that a bird weighs between 140g and 160g: {prob_within_range:.4f}\")\n"
   ]
  },
  {
   "cell_type": "markdown",
   "metadata": {},
   "source": [
    "**Challenge 6**"
   ]
  },
  {
   "cell_type": "markdown",
   "metadata": {},
   "source": [
    "If the lifetime (in hours) of a certain electronic component follows an exponential distribution with a mean lifetime of 50 hours, what is the probability that the component fails within the first 30 hours?"
   ]
  },
  {
   "cell_type": "code",
   "execution_count": 61,
   "metadata": {},
   "outputs": [
    {
     "name": "stdout",
     "output_type": "stream",
     "text": [
      "Probability that the component fails within first 30 hrs: 0.4512\n"
     ]
    }
   ],
   "source": [
    "from scipy.stats import expon\n",
    "\n",
    "mean_interarrival_time = 50  \n",
    "time_limit = 30\n",
    "\n",
    "prob_within_30_hrs = expon.cdf(time_limit, scale=mean_interarrival_time)\n",
    "\n",
    "print(f\"Probability that the component fails within first 30 hrs: {prob_within_30_hrs:.4f}\")"
   ]
  },
  {
   "cell_type": "code",
   "execution_count": null,
   "metadata": {},
   "outputs": [],
   "source": []
  }
 ],
 "metadata": {
  "kernelspec": {
   "display_name": "Python [conda env:base] *",
   "language": "python",
   "name": "conda-base-py"
  },
  "language_info": {
   "codemirror_mode": {
    "name": "ipython",
    "version": 3
   },
   "file_extension": ".py",
   "mimetype": "text/x-python",
   "name": "python",
   "nbconvert_exporter": "python",
   "pygments_lexer": "ipython3",
   "version": "3.12.7"
  }
 },
 "nbformat": 4,
 "nbformat_minor": 4
}
